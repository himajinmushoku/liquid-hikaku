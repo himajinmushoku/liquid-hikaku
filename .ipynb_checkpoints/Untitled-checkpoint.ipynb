{
 "cells": [
  {
   "cell_type": "code",
   "execution_count": 18,
   "id": "ac0dec51-7a8b-4e44-b4f5-437a29a879b9",
   "metadata": {},
   "outputs": [],
   "source": [
    "from bs4 import BeautifulSoup\n",
    "import requests\n",
    "import streamlit as st\n",
    "import pandas as pd\n",
    "###CBDSHOPまどろみ########\n",
    "\n",
    "url = 'https://madoromicbd.thebase.in/categories/3194863'\n",
    "res = requests.get(url)\n",
    "soup = BeautifulSoup(res.text, 'html.parser')\n",
    "\n",
    "item_list = soup.find('ul', {'id': 'itemList'})\n",
    "items = item_list.find_all('li', {'class', 'items-grid_itemListLI_5a0255a1'})  \n",
    "\n",
    "\n",
    "for item in items:\n",
    "    data_madoromi = {}\n",
    "    data_madoromi['title'] = item.find('p', {'class': 'items-grid_itemTitleText_5a0255a1'}).text\n",
    "    price = item.find('div', {'class': 'items-grid_itemPrice_5a0255a1'}).text\n",
    "    price = price.replace('¥', '').replace(',', '')\n",
    "    price = int(price)\n",
    "    data_madoromi['price'] = price\n",
    "    data_madoromi['capacity'] = '不明'\n",
    "    stock = item.find('p', {'class': 'items-grid_soldOut_5a0255a1'}) == None\n",
    "    data_madoromi['stock'] = '在庫あり' if stock == True else 'SOLD OUT'\n",
    "    url = item.find('a')['href']\n",
    "    data_madoromi['URL'] = url\n",
    "    data_ec.append(data_madoromi)\n",
    "\n",
    "     "
   ]
  },
  {
   "cell_type": "code",
   "execution_count": 20,
   "id": "8b7db34a-0241-4830-bad8-9e2fb4e988f8",
   "metadata": {},
   "outputs": [
    {
     "data": {
      "text/plain": [
       "{'title': '510規格アトマイザー  0.5ml',\n",
       " 'price': 300,\n",
       " 'capacity': '不明',\n",
       " 'stock': '在庫あり',\n",
       " 'URL': 'https://madoromicbd.thebase.in/items/48445335'}"
      ]
     },
     "execution_count": 20,
     "metadata": {},
     "output_type": "execute_result"
    }
   ],
   "source": [
    "data_madoromi"
   ]
  },
  {
   "cell_type": "code",
   "execution_count": null,
   "id": "1a725f6c-f473-4fba-ae4d-fdf2be46541e",
   "metadata": {},
   "outputs": [],
   "source": []
  }
 ],
 "metadata": {
  "kernelspec": {
   "display_name": "Python 3 (ipykernel)",
   "language": "python",
   "name": "python3"
  },
  "language_info": {
   "codemirror_mode": {
    "name": "ipython",
    "version": 3
   },
   "file_extension": ".py",
   "mimetype": "text/x-python",
   "name": "python",
   "nbconvert_exporter": "python",
   "pygments_lexer": "ipython3",
   "version": "3.9.6"
  }
 },
 "nbformat": 4,
 "nbformat_minor": 5
}
