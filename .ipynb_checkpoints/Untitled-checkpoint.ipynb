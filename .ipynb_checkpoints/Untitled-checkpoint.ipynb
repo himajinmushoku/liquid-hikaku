{
 "cells": [
  {
   "cell_type": "code",
   "execution_count": null,
   "id": "13888aac-d9d3-4442-9eed-25c9d72e67fc",
   "metadata": {},
   "outputs": [],
   "source": [
    "from bs4 import BeautifulSoup\n",
    "import requests\n",
    "import streamlit as st\n",
    "import pandas as pd\n",
    "###Ancient CBD########\n",
    "\n",
    "url = 'https://kajitsumanbo.thebase.in/categories/4038882'\n",
    "res = requests.get(url)\n",
    "soup = BeautifulSoup(res.text, 'html.parser')"
   ]
  },
  {
   "cell_type": "code",
   "execution_count": 1,
   "id": "351ae28b-f22d-409a-851a-a98df8e15b93",
   "metadata": {},
   "outputs": [],
   "source": [
    "###AncientCBD#####\n",
    "items = soup.find_all('li', {'class': 'items-grid_itemListLI_5a0255a1'})\n",
    "\n",
    "for item in items:\n",
    "    data_ancientCBD = {}\n",
    "    data_ancientCBD['title'] = item.find('p', {'class': 'items-grid_itemTitleText_5a0255a1'}).text\n",
    "    data_ancientCBD['URL'] = item.find('a')['href']\n",
    "    price = item.find('p', {'class': 'items-grid_price_5a0255a1'}).text\n",
    "    price = price.replace('¥', '').replace(',', '')\n",
    "    price = int(price)\n",
    "    data_ancientCBD['price'] = price\n",
    "    title = item.find('p', {'class': 'items-grid_itemTitleText_5a0255a1'}).text\n",
    "    if '1ml' in title:\n",
    "        data_ancientCBD['capacity'] = '1ml'\n",
    "    elif '0.5ml' in title:\n",
    "        data_ancientCBD['capacity'] = '0.5ml'\n",
    "    else:\n",
    "        data_ancientCBD['capacity'] = '不明'\n",
    "    stock = item.find('p', {'class': 'items-grid_soldOut_5a0255a1'}) == None\n",
    "    data_ancientCBD['stock'] = '在庫あり' if stock == True else 'SOLD OUT'\n",
    "    "
   ]
  },
  {
   "cell_type": "code",
   "execution_count": 27,
   "id": "05e89a66-ab90-40b7-ae7d-13c4190742bc",
   "metadata": {},
   "outputs": [
    {
     "data": {
      "text/plain": [
       "{'title': 'CBDリキッド【Grapefruit Skunk】',\n",
       " 'URL': 'https://kajitsumanbo.thebase.in/items/56605135',\n",
       " 'price': 3300,\n",
       " 'capacity': '不明',\n",
       " 'stock': 'SOLD OUT'}"
      ]
     },
     "execution_count": 27,
     "metadata": {},
     "output_type": "execute_result"
    }
   ],
   "source": [
    "data_ancientCBD"
   ]
  },
  {
   "cell_type": "code",
   "execution_count": null,
   "id": "8dd21008-6068-46c1-b73b-cee693b1e8c1",
   "metadata": {},
   "outputs": [],
   "source": [
    "item_list = soup.find('ul', {'id': 'itemList'})\n",
    "items = item_list.find_all('li', {'class', 'items-grid_itemListLI_5a0255a1'})  \n",
    "\n",
    "\n",
    "for item in items:\n",
    "    data_madoromi = {}\n",
    "    data_madoromi['title'] = item.find('p', {'class': 'items-grid_itemTitleText_5a0255a1'}).text\n",
    "    price = item.find('div', {'class': 'items-grid_itemPrice_5a0255a1'}).text\n",
    "    price = price.replace('¥', '').replace(',', '')\n",
    "    price = int(price)\n",
    "    data_madoromi['price'] = price\n",
    "    data_madoromi['capacity'] = '不明'\n",
    "    stock = item.find('p', {'class': 'items-grid_soldOut_5a0255a1'}) == None\n",
    "    data_madoromi['stock'] = '在庫あり' if stock == True else 'SOLD OUT'\n",
    "    url = item.find('a')['href']\n",
    "    data_madoromi['URL'] = url\n",
    "    data_ec.append(data_madoromi)"
   ]
  }
 ],
 "metadata": {
  "kernelspec": {
   "display_name": "Python 3 (ipykernel)",
   "language": "python",
   "name": "python3"
  },
  "language_info": {
   "codemirror_mode": {
    "name": "ipython",
    "version": 3
   },
   "file_extension": ".py",
   "mimetype": "text/x-python",
   "name": "python",
   "nbconvert_exporter": "python",
   "pygments_lexer": "ipython3",
   "version": "3.9.6"
  }
 },
 "nbformat": 4,
 "nbformat_minor": 5
}
