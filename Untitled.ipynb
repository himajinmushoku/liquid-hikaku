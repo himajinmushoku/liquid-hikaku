{
 "cells": [
  {
   "cell_type": "code",
   "execution_count": 1,
   "id": "13888aac-d9d3-4442-9eed-25c9d72e67fc",
   "metadata": {},
   "outputs": [],
   "source": [
    "from bs4 import BeautifulSoup\n",
    "import requests\n",
    "import streamlit as st\n",
    "import pandas as pd\n",
    "###Ancient CBD########\n",
    "\n"
   ]
  },
  {
   "cell_type": "code",
   "execution_count": 23,
   "id": "478e13f6-7181-4859-9422-436bab0582ba",
   "metadata": {},
   "outputs": [],
   "source": [
    "url = 'https://www.jomon.work/'\n",
    "res = requests.get(url)\n",
    "soup = BeautifulSoup(res.text, 'html.parser')\n",
    "items = soup.find_all('li', {'class': 'items-grid_itemListLI_5a0255a1'})\n",
    "\n",
    "for item in items:\n",
    "    data_jomon = {}\n",
    "    title = item.find('p', {'class': 'items-grid_itemTitleText_5a0255a1'}).text\n",
    "    data_jomon['title'] = title\n",
    "    price = item.find('p', {'class': 'items-grid_price_5a0255a1'}).text\n",
    "    price = price.replace('¥', '').replace(',', '')\n",
    "    price = int(price)\n",
    "    data_jomon['price'] = price\n",
    "    if '1ml' in title:\n",
    "        data_jomon['capacity'] = '1ml'\n",
    "    elif '0.5ml' in title:\n",
    "        data_jomon['capacity'] = '0.5ml'\n",
    "    else:\n",
    "        data_jomon['capacity'] = '不明'\n",
    "    stock = item.find('p', {'class': 'items-grid_soldOut_5a0255a1'}) == None\n",
    "    data_jomon['stock'] = '在庫あり' if stock == True else 'SOLD OUT'\n",
    "    \n",
    "    if data_jomon['capacity'] == '1ml':\n",
    "        data_jomon['0.1mlあたりの値段'] = price / 10\n",
    "    elif data_jomon['capacity'] == '0.5ml':\n",
    "        data_jomon['0.1mlあたりの値段'] = price / 5\n",
    "    else:\n",
    "        data_jomon['0.1mlあたりの値段'] = 0\n",
    "    data_jomon['URL'] = item.find('a')['href']"
   ]
  },
  {
   "cell_type": "code",
   "execution_count": 24,
   "id": "607e2cab-6456-4041-8361-432c9a1c8dd2",
   "metadata": {},
   "outputs": [
    {
     "data": {
      "text/plain": [
       "{'title': 'DGN60% SkyWalker OG ブロードスペクトラムCBD×CBG×CBNリキッド 1ml',\n",
       " 'price': 6400,\n",
       " 'capacity': '1ml',\n",
       " 'stock': 'SOLD OUT',\n",
       " '0.1mlあたりの値段': 640.0,\n",
       " 'url': 'https://www.jomon.work/items/52901967'}"
      ]
     },
     "execution_count": 24,
     "metadata": {},
     "output_type": "execute_result"
    }
   ],
   "source": [
    "data_jomon"
   ]
  },
  {
   "cell_type": "code",
   "execution_count": 5,
   "id": "3ee5a5ed-059c-4944-af54-c84c7cc0387a",
   "metadata": {},
   "outputs": [
    {
     "data": {
      "text/html": [
       "<style type=\"text/css\">\n",
       "</style>\n",
       "<table id=\"T_fcb86_\">\n",
       "  <thead>\n",
       "    <tr>\n",
       "      <th class=\"blank level0\" >&nbsp;</th>\n",
       "      <th class=\"col_heading level0 col0\" >name</th>\n",
       "      <th class=\"col_heading level0 col1\" >url</th>\n",
       "    </tr>\n",
       "  </thead>\n",
       "  <tbody>\n",
       "    <tr>\n",
       "      <th id=\"T_fcb86_level0_row0\" class=\"row_heading level0 row0\" >0</th>\n",
       "      <td id=\"T_fcb86_row0_col0\" class=\"data row0 col0\" >google</td>\n",
       "      <td id=\"T_fcb86_row0_col1\" class=\"data row0 col1\" ><a href=\"https://www.google.com/?hl=ja\" target=\"_blank\">https://www.google.com/?hl=ja</a></td>\n",
       "    </tr>\n",
       "    <tr>\n",
       "      <th id=\"T_fcb86_level0_row1\" class=\"row_heading level0 row1\" >1</th>\n",
       "      <td id=\"T_fcb86_row1_col0\" class=\"data row1 col0\" >pandas</td>\n",
       "      <td id=\"T_fcb86_row1_col1\" class=\"data row1 col1\" ><a href=\"https://pandas.pydata.org/\" target=\"_blank\">https://pandas.pydata.org/</a></td>\n",
       "    </tr>\n",
       "  </tbody>\n",
       "</table>\n"
      ],
      "text/plain": [
       "<pandas.io.formats.style.Styler at 0x2b15fc5f9a0>"
      ]
     },
     "execution_count": 5,
     "metadata": {},
     "output_type": "execute_result"
    }
   ],
   "source": [
    "df = pd.DataFrame({'name': ['google', 'pandas'], 'url':['https://www.google.com/?hl=ja', 'https://pandas.pydata.org/']})\n",
    "\n",
    "def make_clickable(val):\n",
    "    return '<a href=\"{}\" target=\"_blank\">{}</a>'.format(val,val)\n",
    "\n",
    "df.style.format(formatter={'url': make_clickable})"
   ]
  },
  {
   "cell_type": "code",
   "execution_count": null,
   "id": "260b4305-1b7b-4afb-a92e-5f3213083995",
   "metadata": {},
   "outputs": [],
   "source": []
  }
 ],
 "metadata": {
  "kernelspec": {
   "display_name": "Python 3 (ipykernel)",
   "language": "python",
   "name": "python3"
  },
  "language_info": {
   "codemirror_mode": {
    "name": "ipython",
    "version": 3
   },
   "file_extension": ".py",
   "mimetype": "text/x-python",
   "name": "python",
   "nbconvert_exporter": "python",
   "pygments_lexer": "ipython3",
   "version": "3.9.6"
  }
 },
 "nbformat": 4,
 "nbformat_minor": 5
}
