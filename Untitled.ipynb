{
 "cells": [
  {
   "cell_type": "code",
   "execution_count": 1,
   "id": "13888aac-d9d3-4442-9eed-25c9d72e67fc",
   "metadata": {},
   "outputs": [],
   "source": [
    "from bs4 import BeautifulSoup\n",
    "import requests\n",
    "import streamlit as st\n",
    "import pandas as pd\n",
    "###Ancient CBD########\n",
    "\n"
   ]
  },
  {
   "cell_type": "code",
   "execution_count": 14,
   "id": "d7bed9bb-a905-4634-adc7-391575ad2d33",
   "metadata": {},
   "outputs": [],
   "source": [
    "url = 'https://www.graycannabis.jp/categories/3788391'\n",
    "res = requests.get(url)\n",
    "soup = BeautifulSoup(res.text, 'html.parser')\n",
    "items = soup.find_all('div', {'class': 'bs_itemResult__part'})\n",
    "\n",
    "for item in items:\n",
    "    data_gray = {}\n",
    "    title = item.find('div', {'class': 'bs_itemCard__title'}).text\n",
    "    data_gray['title'] = title\n",
    "    price = item.find('div', {'class': 'bs_itemCard__price'}).text\n",
    "    price = price.replace('¥', '').replace(',', '')\n",
    "    price = int(price)\n",
    "    data_gray['price'] = price\n",
    "\n",
    "\n",
    "    if '1mL' in title:\n",
    "        data_gray['capacity'] = '1ml'\n",
    "    elif '0.5mL' in title:\n",
    "        data_gray['capacity'] = '0.5ml'\n",
    "    else:\n",
    "        data_gray['capacity'] = '不明'\n",
    "    stock = item.find('span', {'class': 'bs_itemCard__soldout'}) == None\n",
    "    data_gray['stock'] = '在庫あり' if stock == True else 'SOLD OUT'\n",
    "    \n",
    "    if data_gray['capacity'] == '1ml':\n",
    "        data_gray['0.1mlあたりの値段'] = price / 10\n",
    "    elif data_gray['capacity'] == '0.5ml':\n",
    "        data_gray['0.1mlあたりの値段'] = price / 5\n",
    "    else:\n",
    "        data_gray['0.1mlあたりの値段'] = 0\n",
    "    data_gray['URL'] = item.find('a')['href']"
   ]
  },
  {
   "cell_type": "code",
   "execution_count": 15,
   "id": "5429a133-cb1f-4030-8f87-46971a211657",
   "metadata": {},
   "outputs": [
    {
     "data": {
      "text/plain": [
       "{'title': '【CBD42%】GRAYリキッド 1mL',\n",
       " 'price': 4200,\n",
       " 'capacity': '1ml',\n",
       " 'stock': '在庫あり',\n",
       " '0.1mlあたりの値段': 420.0,\n",
       " 'URL': 'https://www.graycannabis.jp/items/44706566'}"
      ]
     },
     "execution_count": 15,
     "metadata": {},
     "output_type": "execute_result"
    }
   ],
   "source": [
    "data_gray"
   ]
  },
  {
   "cell_type": "code",
   "execution_count": 23,
   "id": "478e13f6-7181-4859-9422-436bab0582ba",
   "metadata": {},
   "outputs": [],
   "source": [
    "\n",
    "\n",
    "    \n"
   ]
  },
  {
   "cell_type": "code",
   "execution_count": 24,
   "id": "607e2cab-6456-4041-8361-432c9a1c8dd2",
   "metadata": {},
   "outputs": [
    {
     "data": {
      "text/plain": [
       "{'title': 'DGN60% SkyWalker OG ブロードスペクトラムCBD×CBG×CBNリキッド 1ml',\n",
       " 'price': 6400,\n",
       " 'capacity': '1ml',\n",
       " 'stock': 'SOLD OUT',\n",
       " '0.1mlあたりの値段': 640.0,\n",
       " 'url': 'https://www.jomon.work/items/52901967'}"
      ]
     },
     "execution_count": 24,
     "metadata": {},
     "output_type": "execute_result"
    }
   ],
   "source": [
    "data_jomon"
   ]
  },
  {
   "cell_type": "code",
   "execution_count": 11,
   "id": "3ee5a5ed-059c-4944-af54-c84c7cc0387a",
   "metadata": {},
   "outputs": [],
   "source": [
    "df = pd.DataFrame({'name': ['google', 'pandas'], 'url':['https://www.google.com/?hl=ja', 'https://pandas.pydata.org/']})\n",
    "\n",
    "def make_clickable(val):\n",
    "    return '<a href=\"{}\" target=\"_blank\">{}</a>'.format(val,val)\n",
    "\n",
    "df = df.style.format(formatter={'url': make_clickable})"
   ]
  },
  {
   "cell_type": "code",
   "execution_count": 12,
   "id": "405da5af-5b5a-4213-ae81-0f21f1817dd8",
   "metadata": {},
   "outputs": [
    {
     "data": {
      "text/html": [
       "<style type=\"text/css\">\n",
       "</style>\n",
       "<table id=\"T_68a19_\">\n",
       "  <thead>\n",
       "    <tr>\n",
       "      <th class=\"blank level0\" >&nbsp;</th>\n",
       "      <th class=\"col_heading level0 col0\" >name</th>\n",
       "      <th class=\"col_heading level0 col1\" >url</th>\n",
       "    </tr>\n",
       "  </thead>\n",
       "  <tbody>\n",
       "    <tr>\n",
       "      <th id=\"T_68a19_level0_row0\" class=\"row_heading level0 row0\" >0</th>\n",
       "      <td id=\"T_68a19_row0_col0\" class=\"data row0 col0\" >google</td>\n",
       "      <td id=\"T_68a19_row0_col1\" class=\"data row0 col1\" ><a href=\"https://www.google.com/?hl=ja\" target=\"_blank\">https://www.google.com/?hl=ja</a></td>\n",
       "    </tr>\n",
       "    <tr>\n",
       "      <th id=\"T_68a19_level0_row1\" class=\"row_heading level0 row1\" >1</th>\n",
       "      <td id=\"T_68a19_row1_col0\" class=\"data row1 col0\" >pandas</td>\n",
       "      <td id=\"T_68a19_row1_col1\" class=\"data row1 col1\" ><a href=\"https://pandas.pydata.org/\" target=\"_blank\">https://pandas.pydata.org/</a></td>\n",
       "    </tr>\n",
       "  </tbody>\n",
       "</table>\n"
      ],
      "text/plain": [
       "<pandas.io.formats.style.Styler at 0x2b13d734670>"
      ]
     },
     "execution_count": 12,
     "metadata": {},
     "output_type": "execute_result"
    }
   ],
   "source": [
    "df"
   ]
  },
  {
   "cell_type": "code",
   "execution_count": 14,
   "id": "9926b3f7-a84c-4d81-894f-cbc7534a94ce",
   "metadata": {},
   "outputs": [
    {
     "data": {
      "text/html": [
       "<style type=\"text/css\">\n",
       "</style>\n",
       "<table id=\"T_68a19_\">\n",
       "  <thead>\n",
       "    <tr>\n",
       "      <th class=\"blank level0\" >&nbsp;</th>\n",
       "      <th class=\"col_heading level0 col0\" >name</th>\n",
       "      <th class=\"col_heading level0 col1\" >url</th>\n",
       "    </tr>\n",
       "  </thead>\n",
       "  <tbody>\n",
       "    <tr>\n",
       "      <th id=\"T_68a19_level0_row0\" class=\"row_heading level0 row0\" >0</th>\n",
       "      <td id=\"T_68a19_row0_col0\" class=\"data row0 col0\" >google</td>\n",
       "      <td id=\"T_68a19_row0_col1\" class=\"data row0 col1\" ><a href=\"https://www.google.com/?hl=ja\" target=\"_blank\">https://www.google.com/?hl=ja</a></td>\n",
       "    </tr>\n",
       "    <tr>\n",
       "      <th id=\"T_68a19_level0_row1\" class=\"row_heading level0 row1\" >1</th>\n",
       "      <td id=\"T_68a19_row1_col0\" class=\"data row1 col0\" >pandas</td>\n",
       "      <td id=\"T_68a19_row1_col1\" class=\"data row1 col1\" ><a href=\"https://pandas.pydata.org/\" target=\"_blank\">https://pandas.pydata.org/</a></td>\n",
       "    </tr>\n",
       "  </tbody>\n",
       "</table>\n"
      ],
      "text/plain": [
       "<pandas.io.formats.style.Styler at 0x2b13d734670>"
      ]
     },
     "execution_count": 14,
     "metadata": {},
     "output_type": "execute_result"
    }
   ],
   "source": [
    "import streamlit as st\n",
    "import pandas as pd\n",
    "df\n",
    "st.write(df.to_html(escape=False, index=False, show_dimensions=True), unsafe_allow_html=True)"
   ]
  },
  {
   "cell_type": "code",
   "execution_count": null,
   "id": "d1acfbf7-b951-4049-bf3f-3db0cf45f42d",
   "metadata": {},
   "outputs": [],
   "source": []
  }
 ],
 "metadata": {
  "kernelspec": {
   "display_name": "Python 3 (ipykernel)",
   "language": "python",
   "name": "python3"
  },
  "language_info": {
   "codemirror_mode": {
    "name": "ipython",
    "version": 3
   },
   "file_extension": ".py",
   "mimetype": "text/x-python",
   "name": "python",
   "nbconvert_exporter": "python",
   "pygments_lexer": "ipython3",
   "version": "3.9.6"
  }
 },
 "nbformat": 4,
 "nbformat_minor": 5
}
